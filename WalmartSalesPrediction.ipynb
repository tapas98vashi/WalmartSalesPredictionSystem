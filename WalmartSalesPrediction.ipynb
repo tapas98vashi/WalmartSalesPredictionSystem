{
  "nbformat": 4,
  "nbformat_minor": 5,
  "metadata": {
    "kernelspec": {
      "display_name": "Python 3",
      "language": "python",
      "name": "python3"
    },
    "language_info": {
      "codemirror_mode": {
        "name": "ipython",
        "version": 3
      },
      "file_extension": ".py",
      "mimetype": "text/x-python",
      "name": "python",
      "nbconvert_exporter": "python",
      "pygments_lexer": "ipython3",
      "version": "3.8.8"
    },
    "colab": {
      "name": "DA-WalmartSalesPrediction.ipynb",
      "provenance": [],
      "collapsed_sections": []
    }
  },
  "cells": [
    {
      "cell_type": "markdown",
      "metadata": {
        "id": "7d289ec5"
      },
      "source": [
        "# Walmart Sales Prediction (Dataset from Kaggle Competetion)\n",
        "# @author Tapas Vashi\n",
        "# MAC Student - Wilfrid Laurier University, Waterloo\n",
        "# Cp-610-A Data Analysis "
      ],
      "id": "7d289ec5"
    },
    {
      "cell_type": "code",
      "metadata": {
        "id": "af67d92a"
      },
      "source": [
        "import pandas as pd\n",
        "import numpy as np\n",
        "from matplotlib import pyplot as plt\n",
        "import seaborn as sns\n",
        "import warnings\n",
        "warnings.filterwarnings(\"ignore\")"
      ],
      "id": "af67d92a",
      "execution_count": null,
      "outputs": []
    },
    {
      "cell_type": "markdown",
      "metadata": {
        "id": "acf5eb9d"
      },
      "source": [
        "# Step 1: Import all the datasets (csv files)"
      ],
      "id": "acf5eb9d"
    },
    {
      "cell_type": "code",
      "metadata": {
        "id": "ac3141b0"
      },
      "source": [
        "df_features = pd.read_csv('T:/WLU Fall 2021/CP 610 Data Analysis/Walmart Sales Prediction/walmart-recruiting-store-sales-forecasting/features.csv/features.csv', parse_dates=['Date'])"
      ],
      "id": "ac3141b0",
      "execution_count": null,
      "outputs": []
    },
    {
      "cell_type": "code",
      "metadata": {
        "id": "6a07b2ec",
        "outputId": "53eca25c-1412-460b-c7c2-c040a2aa23ee"
      },
      "source": [
        "df_features.head()"
      ],
      "id": "6a07b2ec",
      "execution_count": null,
      "outputs": [
        {
          "data": {
            "text/html": [
              "<div>\n",
              "<style scoped>\n",
              "    .dataframe tbody tr th:only-of-type {\n",
              "        vertical-align: middle;\n",
              "    }\n",
              "\n",
              "    .dataframe tbody tr th {\n",
              "        vertical-align: top;\n",
              "    }\n",
              "\n",
              "    .dataframe thead th {\n",
              "        text-align: right;\n",
              "    }\n",
              "</style>\n",
              "<table border=\"1\" class=\"dataframe\">\n",
              "  <thead>\n",
              "    <tr style=\"text-align: right;\">\n",
              "      <th></th>\n",
              "      <th>Store</th>\n",
              "      <th>Date</th>\n",
              "      <th>Temperature</th>\n",
              "      <th>Fuel_Price</th>\n",
              "      <th>MarkDown1</th>\n",
              "      <th>MarkDown2</th>\n",
              "      <th>MarkDown3</th>\n",
              "      <th>MarkDown4</th>\n",
              "      <th>MarkDown5</th>\n",
              "      <th>CPI</th>\n",
              "      <th>Unemployment</th>\n",
              "      <th>IsHoliday</th>\n",
              "    </tr>\n",
              "  </thead>\n",
              "  <tbody>\n",
              "    <tr>\n",
              "      <th>0</th>\n",
              "      <td>1</td>\n",
              "      <td>2010-02-05</td>\n",
              "      <td>42.31</td>\n",
              "      <td>2.572</td>\n",
              "      <td>NaN</td>\n",
              "      <td>NaN</td>\n",
              "      <td>NaN</td>\n",
              "      <td>NaN</td>\n",
              "      <td>NaN</td>\n",
              "      <td>211.096358</td>\n",
              "      <td>8.106</td>\n",
              "      <td>False</td>\n",
              "    </tr>\n",
              "    <tr>\n",
              "      <th>1</th>\n",
              "      <td>1</td>\n",
              "      <td>2010-02-12</td>\n",
              "      <td>38.51</td>\n",
              "      <td>2.548</td>\n",
              "      <td>NaN</td>\n",
              "      <td>NaN</td>\n",
              "      <td>NaN</td>\n",
              "      <td>NaN</td>\n",
              "      <td>NaN</td>\n",
              "      <td>211.242170</td>\n",
              "      <td>8.106</td>\n",
              "      <td>True</td>\n",
              "    </tr>\n",
              "    <tr>\n",
              "      <th>2</th>\n",
              "      <td>1</td>\n",
              "      <td>2010-02-19</td>\n",
              "      <td>39.93</td>\n",
              "      <td>2.514</td>\n",
              "      <td>NaN</td>\n",
              "      <td>NaN</td>\n",
              "      <td>NaN</td>\n",
              "      <td>NaN</td>\n",
              "      <td>NaN</td>\n",
              "      <td>211.289143</td>\n",
              "      <td>8.106</td>\n",
              "      <td>False</td>\n",
              "    </tr>\n",
              "    <tr>\n",
              "      <th>3</th>\n",
              "      <td>1</td>\n",
              "      <td>2010-02-26</td>\n",
              "      <td>46.63</td>\n",
              "      <td>2.561</td>\n",
              "      <td>NaN</td>\n",
              "      <td>NaN</td>\n",
              "      <td>NaN</td>\n",
              "      <td>NaN</td>\n",
              "      <td>NaN</td>\n",
              "      <td>211.319643</td>\n",
              "      <td>8.106</td>\n",
              "      <td>False</td>\n",
              "    </tr>\n",
              "    <tr>\n",
              "      <th>4</th>\n",
              "      <td>1</td>\n",
              "      <td>2010-03-05</td>\n",
              "      <td>46.50</td>\n",
              "      <td>2.625</td>\n",
              "      <td>NaN</td>\n",
              "      <td>NaN</td>\n",
              "      <td>NaN</td>\n",
              "      <td>NaN</td>\n",
              "      <td>NaN</td>\n",
              "      <td>211.350143</td>\n",
              "      <td>8.106</td>\n",
              "      <td>False</td>\n",
              "    </tr>\n",
              "  </tbody>\n",
              "</table>\n",
              "</div>"
            ],
            "text/plain": [
              "   Store       Date  Temperature  Fuel_Price  MarkDown1  MarkDown2  MarkDown3  \\\n",
              "0      1 2010-02-05        42.31       2.572        NaN        NaN        NaN   \n",
              "1      1 2010-02-12        38.51       2.548        NaN        NaN        NaN   \n",
              "2      1 2010-02-19        39.93       2.514        NaN        NaN        NaN   \n",
              "3      1 2010-02-26        46.63       2.561        NaN        NaN        NaN   \n",
              "4      1 2010-03-05        46.50       2.625        NaN        NaN        NaN   \n",
              "\n",
              "   MarkDown4  MarkDown5         CPI  Unemployment  IsHoliday  \n",
              "0        NaN        NaN  211.096358         8.106      False  \n",
              "1        NaN        NaN  211.242170         8.106       True  \n",
              "2        NaN        NaN  211.289143         8.106      False  \n",
              "3        NaN        NaN  211.319643         8.106      False  \n",
              "4        NaN        NaN  211.350143         8.106      False  "
            ]
          },
          "execution_count": 3,
          "metadata": {},
          "output_type": "execute_result"
        }
      ]
    },
    {
      "cell_type": "code",
      "metadata": {
        "id": "336c3831"
      },
      "source": [
        "df_sales = pd.read_csv('T:/WLU Fall 2021/CP 610 Data Analysis/Walmart Sales Prediction/walmart-recruiting-store-sales-forecasting/train.csv/train.csv', parse_dates=['Date'])"
      ],
      "id": "336c3831",
      "execution_count": null,
      "outputs": []
    },
    {
      "cell_type": "code",
      "metadata": {
        "id": "0fb2ed6b",
        "outputId": "05e94063-3368-42c7-ccb3-4dea665f1352"
      },
      "source": [
        "df_sales.head()"
      ],
      "id": "0fb2ed6b",
      "execution_count": null,
      "outputs": [
        {
          "data": {
            "text/html": [
              "<div>\n",
              "<style scoped>\n",
              "    .dataframe tbody tr th:only-of-type {\n",
              "        vertical-align: middle;\n",
              "    }\n",
              "\n",
              "    .dataframe tbody tr th {\n",
              "        vertical-align: top;\n",
              "    }\n",
              "\n",
              "    .dataframe thead th {\n",
              "        text-align: right;\n",
              "    }\n",
              "</style>\n",
              "<table border=\"1\" class=\"dataframe\">\n",
              "  <thead>\n",
              "    <tr style=\"text-align: right;\">\n",
              "      <th></th>\n",
              "      <th>Store</th>\n",
              "      <th>Dept</th>\n",
              "      <th>Date</th>\n",
              "      <th>Weekly_Sales</th>\n",
              "      <th>IsHoliday</th>\n",
              "    </tr>\n",
              "  </thead>\n",
              "  <tbody>\n",
              "    <tr>\n",
              "      <th>0</th>\n",
              "      <td>1</td>\n",
              "      <td>1</td>\n",
              "      <td>2010-02-05</td>\n",
              "      <td>24924.50</td>\n",
              "      <td>False</td>\n",
              "    </tr>\n",
              "    <tr>\n",
              "      <th>1</th>\n",
              "      <td>1</td>\n",
              "      <td>1</td>\n",
              "      <td>2010-02-12</td>\n",
              "      <td>46039.49</td>\n",
              "      <td>True</td>\n",
              "    </tr>\n",
              "    <tr>\n",
              "      <th>2</th>\n",
              "      <td>1</td>\n",
              "      <td>1</td>\n",
              "      <td>2010-02-19</td>\n",
              "      <td>41595.55</td>\n",
              "      <td>False</td>\n",
              "    </tr>\n",
              "    <tr>\n",
              "      <th>3</th>\n",
              "      <td>1</td>\n",
              "      <td>1</td>\n",
              "      <td>2010-02-26</td>\n",
              "      <td>19403.54</td>\n",
              "      <td>False</td>\n",
              "    </tr>\n",
              "    <tr>\n",
              "      <th>4</th>\n",
              "      <td>1</td>\n",
              "      <td>1</td>\n",
              "      <td>2010-03-05</td>\n",
              "      <td>21827.90</td>\n",
              "      <td>False</td>\n",
              "    </tr>\n",
              "  </tbody>\n",
              "</table>\n",
              "</div>"
            ],
            "text/plain": [
              "   Store  Dept       Date  Weekly_Sales  IsHoliday\n",
              "0      1     1 2010-02-05      24924.50      False\n",
              "1      1     1 2010-02-12      46039.49       True\n",
              "2      1     1 2010-02-19      41595.55      False\n",
              "3      1     1 2010-02-26      19403.54      False\n",
              "4      1     1 2010-03-05      21827.90      False"
            ]
          },
          "execution_count": 5,
          "metadata": {},
          "output_type": "execute_result"
        }
      ]
    },
    {
      "cell_type": "code",
      "metadata": {
        "id": "674dcf98",
        "outputId": "6b3bbbe7-4eba-485f-b108-7ba506bad491"
      },
      "source": [
        "df_sales.tail()"
      ],
      "id": "674dcf98",
      "execution_count": null,
      "outputs": [
        {
          "data": {
            "text/html": [
              "<div>\n",
              "<style scoped>\n",
              "    .dataframe tbody tr th:only-of-type {\n",
              "        vertical-align: middle;\n",
              "    }\n",
              "\n",
              "    .dataframe tbody tr th {\n",
              "        vertical-align: top;\n",
              "    }\n",
              "\n",
              "    .dataframe thead th {\n",
              "        text-align: right;\n",
              "    }\n",
              "</style>\n",
              "<table border=\"1\" class=\"dataframe\">\n",
              "  <thead>\n",
              "    <tr style=\"text-align: right;\">\n",
              "      <th></th>\n",
              "      <th>Store</th>\n",
              "      <th>Dept</th>\n",
              "      <th>Date</th>\n",
              "      <th>Weekly_Sales</th>\n",
              "      <th>IsHoliday</th>\n",
              "    </tr>\n",
              "  </thead>\n",
              "  <tbody>\n",
              "    <tr>\n",
              "      <th>421565</th>\n",
              "      <td>45</td>\n",
              "      <td>98</td>\n",
              "      <td>2012-09-28</td>\n",
              "      <td>508.37</td>\n",
              "      <td>False</td>\n",
              "    </tr>\n",
              "    <tr>\n",
              "      <th>421566</th>\n",
              "      <td>45</td>\n",
              "      <td>98</td>\n",
              "      <td>2012-10-05</td>\n",
              "      <td>628.10</td>\n",
              "      <td>False</td>\n",
              "    </tr>\n",
              "    <tr>\n",
              "      <th>421567</th>\n",
              "      <td>45</td>\n",
              "      <td>98</td>\n",
              "      <td>2012-10-12</td>\n",
              "      <td>1061.02</td>\n",
              "      <td>False</td>\n",
              "    </tr>\n",
              "    <tr>\n",
              "      <th>421568</th>\n",
              "      <td>45</td>\n",
              "      <td>98</td>\n",
              "      <td>2012-10-19</td>\n",
              "      <td>760.01</td>\n",
              "      <td>False</td>\n",
              "    </tr>\n",
              "    <tr>\n",
              "      <th>421569</th>\n",
              "      <td>45</td>\n",
              "      <td>98</td>\n",
              "      <td>2012-10-26</td>\n",
              "      <td>1076.80</td>\n",
              "      <td>False</td>\n",
              "    </tr>\n",
              "  </tbody>\n",
              "</table>\n",
              "</div>"
            ],
            "text/plain": [
              "        Store  Dept       Date  Weekly_Sales  IsHoliday\n",
              "421565     45    98 2012-09-28        508.37      False\n",
              "421566     45    98 2012-10-05        628.10      False\n",
              "421567     45    98 2012-10-12       1061.02      False\n",
              "421568     45    98 2012-10-19        760.01      False\n",
              "421569     45    98 2012-10-26       1076.80      False"
            ]
          },
          "execution_count": 6,
          "metadata": {},
          "output_type": "execute_result"
        }
      ]
    },
    {
      "cell_type": "code",
      "metadata": {
        "id": "b5319a3e"
      },
      "source": [
        "df_stores = pd.read_csv('T:/WLU Fall 2021/CP 610 Data Analysis/Walmart Sales Prediction/walmart-recruiting-store-sales-forecasting/stores.csv')"
      ],
      "id": "b5319a3e",
      "execution_count": null,
      "outputs": []
    },
    {
      "cell_type": "code",
      "metadata": {
        "id": "cca46cab",
        "outputId": "23627cd8-a55e-4289-af28-9e3c2f4888f6"
      },
      "source": [
        "df_stores.head()"
      ],
      "id": "cca46cab",
      "execution_count": null,
      "outputs": [
        {
          "data": {
            "text/html": [
              "<div>\n",
              "<style scoped>\n",
              "    .dataframe tbody tr th:only-of-type {\n",
              "        vertical-align: middle;\n",
              "    }\n",
              "\n",
              "    .dataframe tbody tr th {\n",
              "        vertical-align: top;\n",
              "    }\n",
              "\n",
              "    .dataframe thead th {\n",
              "        text-align: right;\n",
              "    }\n",
              "</style>\n",
              "<table border=\"1\" class=\"dataframe\">\n",
              "  <thead>\n",
              "    <tr style=\"text-align: right;\">\n",
              "      <th></th>\n",
              "      <th>Store</th>\n",
              "      <th>Type</th>\n",
              "      <th>Size</th>\n",
              "    </tr>\n",
              "  </thead>\n",
              "  <tbody>\n",
              "    <tr>\n",
              "      <th>0</th>\n",
              "      <td>1</td>\n",
              "      <td>A</td>\n",
              "      <td>151315</td>\n",
              "    </tr>\n",
              "    <tr>\n",
              "      <th>1</th>\n",
              "      <td>2</td>\n",
              "      <td>A</td>\n",
              "      <td>202307</td>\n",
              "    </tr>\n",
              "    <tr>\n",
              "      <th>2</th>\n",
              "      <td>3</td>\n",
              "      <td>B</td>\n",
              "      <td>37392</td>\n",
              "    </tr>\n",
              "    <tr>\n",
              "      <th>3</th>\n",
              "      <td>4</td>\n",
              "      <td>A</td>\n",
              "      <td>205863</td>\n",
              "    </tr>\n",
              "    <tr>\n",
              "      <th>4</th>\n",
              "      <td>5</td>\n",
              "      <td>B</td>\n",
              "      <td>34875</td>\n",
              "    </tr>\n",
              "  </tbody>\n",
              "</table>\n",
              "</div>"
            ],
            "text/plain": [
              "   Store Type    Size\n",
              "0      1    A  151315\n",
              "1      2    A  202307\n",
              "2      3    B   37392\n",
              "3      4    A  205863\n",
              "4      5    B   34875"
            ]
          },
          "execution_count": 8,
          "metadata": {},
          "output_type": "execute_result"
        }
      ]
    },
    {
      "cell_type": "code",
      "metadata": {
        "id": "f0899110"
      },
      "source": [
        "df_sales_answer = pd.read_csv('T:/WLU Fall 2021/CP 610 Data Analysis/Walmart Sales Prediction/walmart-recruiting-store-sales-forecasting/test.csv/test.csv', parse_dates=['Date'])"
      ],
      "id": "f0899110",
      "execution_count": null,
      "outputs": []
    },
    {
      "cell_type": "code",
      "metadata": {
        "id": "eca878ce",
        "outputId": "190473e5-7981-4dab-9e6f-6e02bb9f87d6"
      },
      "source": [
        "df_sales_answer.head()"
      ],
      "id": "eca878ce",
      "execution_count": null,
      "outputs": [
        {
          "data": {
            "text/html": [
              "<div>\n",
              "<style scoped>\n",
              "    .dataframe tbody tr th:only-of-type {\n",
              "        vertical-align: middle;\n",
              "    }\n",
              "\n",
              "    .dataframe tbody tr th {\n",
              "        vertical-align: top;\n",
              "    }\n",
              "\n",
              "    .dataframe thead th {\n",
              "        text-align: right;\n",
              "    }\n",
              "</style>\n",
              "<table border=\"1\" class=\"dataframe\">\n",
              "  <thead>\n",
              "    <tr style=\"text-align: right;\">\n",
              "      <th></th>\n",
              "      <th>Store</th>\n",
              "      <th>Dept</th>\n",
              "      <th>Date</th>\n",
              "      <th>IsHoliday</th>\n",
              "    </tr>\n",
              "  </thead>\n",
              "  <tbody>\n",
              "    <tr>\n",
              "      <th>0</th>\n",
              "      <td>1</td>\n",
              "      <td>1</td>\n",
              "      <td>2012-11-02</td>\n",
              "      <td>False</td>\n",
              "    </tr>\n",
              "    <tr>\n",
              "      <th>1</th>\n",
              "      <td>1</td>\n",
              "      <td>1</td>\n",
              "      <td>2012-11-09</td>\n",
              "      <td>False</td>\n",
              "    </tr>\n",
              "    <tr>\n",
              "      <th>2</th>\n",
              "      <td>1</td>\n",
              "      <td>1</td>\n",
              "      <td>2012-11-16</td>\n",
              "      <td>False</td>\n",
              "    </tr>\n",
              "    <tr>\n",
              "      <th>3</th>\n",
              "      <td>1</td>\n",
              "      <td>1</td>\n",
              "      <td>2012-11-23</td>\n",
              "      <td>True</td>\n",
              "    </tr>\n",
              "    <tr>\n",
              "      <th>4</th>\n",
              "      <td>1</td>\n",
              "      <td>1</td>\n",
              "      <td>2012-11-30</td>\n",
              "      <td>False</td>\n",
              "    </tr>\n",
              "  </tbody>\n",
              "</table>\n",
              "</div>"
            ],
            "text/plain": [
              "   Store  Dept       Date  IsHoliday\n",
              "0      1     1 2012-11-02      False\n",
              "1      1     1 2012-11-09      False\n",
              "2      1     1 2012-11-16      False\n",
              "3      1     1 2012-11-23       True\n",
              "4      1     1 2012-11-30      False"
            ]
          },
          "execution_count": 10,
          "metadata": {},
          "output_type": "execute_result"
        }
      ]
    },
    {
      "cell_type": "code",
      "metadata": {
        "id": "fdf5b2ac"
      },
      "source": [
        "sample_submission = pd.read_csv('T:/WLU Fall 2021/CP 610 Data Analysis/Walmart Sales Prediction/walmart-recruiting-store-sales-forecasting/sampleSubmission.csv/sampleSubmission.csv')"
      ],
      "id": "fdf5b2ac",
      "execution_count": null,
      "outputs": []
    },
    {
      "cell_type": "code",
      "metadata": {
        "id": "cfd73119",
        "outputId": "c2592e19-f29d-4877-999d-47e09b65d11b"
      },
      "source": [
        "sample_submission.head()"
      ],
      "id": "cfd73119",
      "execution_count": null,
      "outputs": [
        {
          "data": {
            "text/html": [
              "<div>\n",
              "<style scoped>\n",
              "    .dataframe tbody tr th:only-of-type {\n",
              "        vertical-align: middle;\n",
              "    }\n",
              "\n",
              "    .dataframe tbody tr th {\n",
              "        vertical-align: top;\n",
              "    }\n",
              "\n",
              "    .dataframe thead th {\n",
              "        text-align: right;\n",
              "    }\n",
              "</style>\n",
              "<table border=\"1\" class=\"dataframe\">\n",
              "  <thead>\n",
              "    <tr style=\"text-align: right;\">\n",
              "      <th></th>\n",
              "      <th>Id</th>\n",
              "      <th>Weekly_Sales</th>\n",
              "    </tr>\n",
              "  </thead>\n",
              "  <tbody>\n",
              "    <tr>\n",
              "      <th>0</th>\n",
              "      <td>1_1_2012-11-02</td>\n",
              "      <td>0</td>\n",
              "    </tr>\n",
              "    <tr>\n",
              "      <th>1</th>\n",
              "      <td>1_1_2012-11-09</td>\n",
              "      <td>0</td>\n",
              "    </tr>\n",
              "    <tr>\n",
              "      <th>2</th>\n",
              "      <td>1_1_2012-11-16</td>\n",
              "      <td>0</td>\n",
              "    </tr>\n",
              "    <tr>\n",
              "      <th>3</th>\n",
              "      <td>1_1_2012-11-23</td>\n",
              "      <td>0</td>\n",
              "    </tr>\n",
              "    <tr>\n",
              "      <th>4</th>\n",
              "      <td>1_1_2012-11-30</td>\n",
              "      <td>0</td>\n",
              "    </tr>\n",
              "  </tbody>\n",
              "</table>\n",
              "</div>"
            ],
            "text/plain": [
              "               Id  Weekly_Sales\n",
              "0  1_1_2012-11-02             0\n",
              "1  1_1_2012-11-09             0\n",
              "2  1_1_2012-11-16             0\n",
              "3  1_1_2012-11-23             0\n",
              "4  1_1_2012-11-30             0"
            ]
          },
          "execution_count": 12,
          "metadata": {},
          "output_type": "execute_result"
        }
      ]
    },
    {
      "cell_type": "markdown",
      "metadata": {
        "id": "134250a4"
      },
      "source": [
        "# Step 2: Edit the data by combining all csv into one and converting all columns into numericals"
      ],
      "id": "134250a4"
    },
    {
      "cell_type": "code",
      "metadata": {
        "id": "c286cfe2"
      },
      "source": [
        "sales_answer = pd.merge(df_sales ,df_sales_answer, how='outer', on=['Store', 'Dept', 'Date', 'IsHoliday'])\n",
        "\n",
        "## Here I have combine multiple csv files into one. "
      ],
      "id": "c286cfe2",
      "execution_count": null,
      "outputs": []
    },
    {
      "cell_type": "code",
      "metadata": {
        "id": "c71b2266"
      },
      "source": [
        "sales_feat = pd.merge(sales_answer ,df_features, how='outer', on=['Store', 'Date', 'IsHoliday'])"
      ],
      "id": "c71b2266",
      "execution_count": null,
      "outputs": []
    },
    {
      "cell_type": "code",
      "metadata": {
        "id": "21a347c1"
      },
      "source": [
        "df_all = pd.merge(sales_feat, df_stores, how='outer', on='Store')"
      ],
      "id": "21a347c1",
      "execution_count": null,
      "outputs": []
    },
    {
      "cell_type": "code",
      "metadata": {
        "id": "65f99a59"
      },
      "source": [
        "def multipledummies(df, non_numerical_columns):\n",
        "    ''' Input the whole dataframe & name of non-numerical columns, output is clean dataframe that all is in numerical format'''\n",
        "\n",
        "    for i in non_numerical_columns:\n",
        "\n",
        "        # convert to numerical using get_dummies\n",
        "        one_hot = pd.get_dummies(df[i], prefix=i)\n",
        "\n",
        "        # append new numerical column to main df\n",
        "        df = df.join(one_hot)\n",
        "\n",
        "        # drop that non-numerical column\n",
        "        df.drop(i, axis = 1, inplace=True)\n",
        "\n",
        "    return df"
      ],
      "id": "65f99a59",
      "execution_count": null,
      "outputs": []
    },
    {
      "cell_type": "code",
      "metadata": {
        "id": "00a5e22a"
      },
      "source": [
        "df_all['Day'] = df_all.Date.dt.day\n",
        "df_all['Week'] = df_all.Date.dt.week \n",
        "df_all['Year'] = df_all.Date.dt.year"
      ],
      "id": "00a5e22a",
      "execution_count": null,
      "outputs": []
    },
    {
      "cell_type": "code",
      "metadata": {
        "id": "9dfb6577",
        "outputId": "95982a37-4f8e-4430-a6af-0eb49f2283e3"
      },
      "source": [
        "df_all = multipledummies(df_all, ['Type'])\n",
        "df_all.sample(5)"
      ],
      "id": "9dfb6577",
      "execution_count": null,
      "outputs": [
        {
          "data": {
            "text/html": [
              "<div>\n",
              "<style scoped>\n",
              "    .dataframe tbody tr th:only-of-type {\n",
              "        vertical-align: middle;\n",
              "    }\n",
              "\n",
              "    .dataframe tbody tr th {\n",
              "        vertical-align: top;\n",
              "    }\n",
              "\n",
              "    .dataframe thead th {\n",
              "        text-align: right;\n",
              "    }\n",
              "</style>\n",
              "<table border=\"1\" class=\"dataframe\">\n",
              "  <thead>\n",
              "    <tr style=\"text-align: right;\">\n",
              "      <th></th>\n",
              "      <th>Store</th>\n",
              "      <th>Dept</th>\n",
              "      <th>Date</th>\n",
              "      <th>Weekly_Sales</th>\n",
              "      <th>IsHoliday</th>\n",
              "      <th>Temperature</th>\n",
              "      <th>Fuel_Price</th>\n",
              "      <th>MarkDown1</th>\n",
              "      <th>MarkDown2</th>\n",
              "      <th>MarkDown3</th>\n",
              "      <th>...</th>\n",
              "      <th>MarkDown5</th>\n",
              "      <th>CPI</th>\n",
              "      <th>Unemployment</th>\n",
              "      <th>Size</th>\n",
              "      <th>Day</th>\n",
              "      <th>Week</th>\n",
              "      <th>Year</th>\n",
              "      <th>Type_A</th>\n",
              "      <th>Type_B</th>\n",
              "      <th>Type_C</th>\n",
              "    </tr>\n",
              "  </thead>\n",
              "  <tbody>\n",
              "    <tr>\n",
              "      <th>112647</th>\n",
              "      <td>10</td>\n",
              "      <td>54</td>\n",
              "      <td>2010-05-28</td>\n",
              "      <td>527.00</td>\n",
              "      <td>False</td>\n",
              "      <td>76.67</td>\n",
              "      <td>3.058</td>\n",
              "      <td>NaN</td>\n",
              "      <td>NaN</td>\n",
              "      <td>NaN</td>\n",
              "      <td>...</td>\n",
              "      <td>NaN</td>\n",
              "      <td>126.160226</td>\n",
              "      <td>9.524</td>\n",
              "      <td>126512</td>\n",
              "      <td>28</td>\n",
              "      <td>21</td>\n",
              "      <td>2010</td>\n",
              "      <td>0</td>\n",
              "      <td>1</td>\n",
              "      <td>0</td>\n",
              "    </tr>\n",
              "    <tr>\n",
              "      <th>388171</th>\n",
              "      <td>32</td>\n",
              "      <td>49</td>\n",
              "      <td>2010-07-02</td>\n",
              "      <td>3241.71</td>\n",
              "      <td>False</td>\n",
              "      <td>74.74</td>\n",
              "      <td>2.728</td>\n",
              "      <td>NaN</td>\n",
              "      <td>NaN</td>\n",
              "      <td>NaN</td>\n",
              "      <td>...</td>\n",
              "      <td>NaN</td>\n",
              "      <td>189.488260</td>\n",
              "      <td>9.017</td>\n",
              "      <td>203007</td>\n",
              "      <td>2</td>\n",
              "      <td>26</td>\n",
              "      <td>2010</td>\n",
              "      <td>1</td>\n",
              "      <td>0</td>\n",
              "      <td>0</td>\n",
              "    </tr>\n",
              "    <tr>\n",
              "      <th>220739</th>\n",
              "      <td>18</td>\n",
              "      <td>74</td>\n",
              "      <td>2012-04-06</td>\n",
              "      <td>20487.83</td>\n",
              "      <td>False</td>\n",
              "      <td>43.80</td>\n",
              "      <td>3.957</td>\n",
              "      <td>7879.75</td>\n",
              "      <td>NaN</td>\n",
              "      <td>43.89</td>\n",
              "      <td>...</td>\n",
              "      <td>5337.91</td>\n",
              "      <td>137.797097</td>\n",
              "      <td>8.304</td>\n",
              "      <td>120653</td>\n",
              "      <td>6</td>\n",
              "      <td>14</td>\n",
              "      <td>2012</td>\n",
              "      <td>0</td>\n",
              "      <td>1</td>\n",
              "      <td>0</td>\n",
              "    </tr>\n",
              "    <tr>\n",
              "      <th>227729</th>\n",
              "      <td>19</td>\n",
              "      <td>49</td>\n",
              "      <td>2010-09-10</td>\n",
              "      <td>5732.35</td>\n",
              "      <td>True</td>\n",
              "      <td>63.36</td>\n",
              "      <td>2.837</td>\n",
              "      <td>NaN</td>\n",
              "      <td>NaN</td>\n",
              "      <td>NaN</td>\n",
              "      <td>...</td>\n",
              "      <td>NaN</td>\n",
              "      <td>132.756452</td>\n",
              "      <td>8.099</td>\n",
              "      <td>203819</td>\n",
              "      <td>10</td>\n",
              "      <td>36</td>\n",
              "      <td>2010</td>\n",
              "      <td>1</td>\n",
              "      <td>0</td>\n",
              "      <td>0</td>\n",
              "    </tr>\n",
              "    <tr>\n",
              "      <th>234826</th>\n",
              "      <td>19</td>\n",
              "      <td>82</td>\n",
              "      <td>2012-08-10</td>\n",
              "      <td>23331.42</td>\n",
              "      <td>False</td>\n",
              "      <td>74.45</td>\n",
              "      <td>3.863</td>\n",
              "      <td>6196.55</td>\n",
              "      <td>232.43</td>\n",
              "      <td>76.35</td>\n",
              "      <td>...</td>\n",
              "      <td>3417.36</td>\n",
              "      <td>138.143774</td>\n",
              "      <td>8.193</td>\n",
              "      <td>203819</td>\n",
              "      <td>10</td>\n",
              "      <td>32</td>\n",
              "      <td>2012</td>\n",
              "      <td>1</td>\n",
              "      <td>0</td>\n",
              "      <td>0</td>\n",
              "    </tr>\n",
              "  </tbody>\n",
              "</table>\n",
              "<p>5 rows × 21 columns</p>\n",
              "</div>"
            ],
            "text/plain": [
              "        Store  Dept       Date  Weekly_Sales IsHoliday  Temperature  \\\n",
              "112647     10    54 2010-05-28        527.00     False        76.67   \n",
              "388171     32    49 2010-07-02       3241.71     False        74.74   \n",
              "220739     18    74 2012-04-06      20487.83     False        43.80   \n",
              "227729     19    49 2010-09-10       5732.35      True        63.36   \n",
              "234826     19    82 2012-08-10      23331.42     False        74.45   \n",
              "\n",
              "        Fuel_Price  MarkDown1  MarkDown2  MarkDown3  ...  MarkDown5  \\\n",
              "112647       3.058        NaN        NaN        NaN  ...        NaN   \n",
              "388171       2.728        NaN        NaN        NaN  ...        NaN   \n",
              "220739       3.957    7879.75        NaN      43.89  ...    5337.91   \n",
              "227729       2.837        NaN        NaN        NaN  ...        NaN   \n",
              "234826       3.863    6196.55     232.43      76.35  ...    3417.36   \n",
              "\n",
              "               CPI  Unemployment    Size  Day  Week  Year  Type_A  Type_B  \\\n",
              "112647  126.160226         9.524  126512   28    21  2010       0       1   \n",
              "388171  189.488260         9.017  203007    2    26  2010       1       0   \n",
              "220739  137.797097         8.304  120653    6    14  2012       0       1   \n",
              "227729  132.756452         8.099  203819   10    36  2010       1       0   \n",
              "234826  138.143774         8.193  203819   10    32  2012       1       0   \n",
              "\n",
              "        Type_C  \n",
              "112647       0  \n",
              "388171       0  \n",
              "220739       0  \n",
              "227729       0  \n",
              "234826       0  \n",
              "\n",
              "[5 rows x 21 columns]"
            ]
          },
          "execution_count": 18,
          "metadata": {},
          "output_type": "execute_result"
        }
      ]
    },
    {
      "cell_type": "code",
      "metadata": {
        "id": "900df4fb"
      },
      "source": [
        "data_range = (df_all['Date'] >= '2010-02-05') & (df_all['Date'] <= '2012-10-26')\n",
        "answer_range = (df_all['Date'] >= '2012-11-02') & (df_all['Date'] <= '2013-07-26')\n",
        "\n",
        "\n",
        "df = df_all.loc[data_range]\n",
        "df_answer = df_all.loc[answer_range]\n",
        "\n",
        "\n",
        "# drop date column now since its been segregated properly already\n",
        "df.drop(['Date'], axis=1, inplace=True)\n",
        "df_answer.drop(['Date'], axis=1, inplace=True)"
      ],
      "id": "900df4fb",
      "execution_count": null,
      "outputs": []
    },
    {
      "cell_type": "code",
      "metadata": {
        "id": "892aa709",
        "outputId": "9934c849-1672-44c2-8895-d39418a6a9a0"
      },
      "source": [
        "df.info()\n",
        "df_answer.info()"
      ],
      "id": "892aa709",
      "execution_count": null,
      "outputs": [
        {
          "name": "stdout",
          "output_type": "stream",
          "text": [
            "<class 'pandas.core.frame.DataFrame'>\n",
            "Int64Index: 421570 entries, 0 to 534007\n",
            "Data columns (total 20 columns):\n",
            " #   Column        Non-Null Count   Dtype  \n",
            "---  ------        --------------   -----  \n",
            " 0   Store         421570 non-null  int64  \n",
            " 1   Dept          421570 non-null  int64  \n",
            " 2   Weekly_Sales  421570 non-null  float64\n",
            " 3   IsHoliday     421570 non-null  object \n",
            " 4   Temperature   421570 non-null  float64\n",
            " 5   Fuel_Price    421570 non-null  float64\n",
            " 6   MarkDown1     150681 non-null  float64\n",
            " 7   MarkDown2     111248 non-null  float64\n",
            " 8   MarkDown3     137091 non-null  float64\n",
            " 9   MarkDown4     134967 non-null  float64\n",
            " 10  MarkDown5     151432 non-null  float64\n",
            " 11  CPI           421570 non-null  float64\n",
            " 12  Unemployment  421570 non-null  float64\n",
            " 13  Size          421570 non-null  int64  \n",
            " 14  Day           421570 non-null  int64  \n",
            " 15  Week          421570 non-null  int64  \n",
            " 16  Year          421570 non-null  int64  \n",
            " 17  Type_A        421570 non-null  uint8  \n",
            " 18  Type_B        421570 non-null  uint8  \n",
            " 19  Type_C        421570 non-null  uint8  \n",
            "dtypes: float64(10), int64(6), object(1), uint8(3)\n",
            "memory usage: 59.1+ MB\n",
            "<class 'pandas.core.frame.DataFrame'>\n",
            "Int64Index: 115064 entries, 10244 to 536633\n",
            "Data columns (total 20 columns):\n",
            " #   Column        Non-Null Count   Dtype  \n",
            "---  ------        --------------   -----  \n",
            " 0   Store         115064 non-null  int64  \n",
            " 1   Dept          115064 non-null  int64  \n",
            " 2   Weekly_Sales  0 non-null       float64\n",
            " 3   IsHoliday     115064 non-null  object \n",
            " 4   Temperature   115064 non-null  float64\n",
            " 5   Fuel_Price    115064 non-null  float64\n",
            " 6   MarkDown1     114915 non-null  float64\n",
            " 7   MarkDown2     86437 non-null   float64\n",
            " 8   MarkDown3     105235 non-null  float64\n",
            " 9   MarkDown4     102176 non-null  float64\n",
            " 10  MarkDown5     115064 non-null  float64\n",
            " 11  CPI           76902 non-null   float64\n",
            " 12  Unemployment  76902 non-null   float64\n",
            " 13  Size          115064 non-null  int64  \n",
            " 14  Day           115064 non-null  int64  \n",
            " 15  Week          115064 non-null  int64  \n",
            " 16  Year          115064 non-null  int64  \n",
            " 17  Type_A        115064 non-null  uint8  \n",
            " 18  Type_B        115064 non-null  uint8  \n",
            " 19  Type_C        115064 non-null  uint8  \n",
            "dtypes: float64(10), int64(6), object(1), uint8(3)\n",
            "memory usage: 16.1+ MB\n"
          ]
        }
      ]
    },
    {
      "cell_type": "markdown",
      "metadata": {
        "id": "86e32bc8"
      },
      "source": [
        "# Step 3: Explore data using correlation. Drop if co-relation is between 0.1 and -0.1."
      ],
      "id": "86e32bc8"
    },
    {
      "cell_type": "code",
      "metadata": {
        "id": "953d163e",
        "outputId": "7f185b09-ccea-40f6-dc65-9fb7536d26ff"
      },
      "source": [
        "sns.set(style=\"darkgrid\")\n",
        "\n",
        "corr = df.corr()\n",
        "\n",
        "mask = np.triu(np.ones_like(corr, dtype=np.bool))\n",
        "\n",
        "f, ax = plt.subplots(figsize=(20, 15))\n",
        "\n",
        "cmap = sns.diverging_palette(220, 10, as_cmap=True)\n",
        "\n",
        "plt.title('Correlation Matrix', fontsize=18)\n",
        "\n",
        "sns.heatmap(corr, mask=mask, cmap=cmap, vmax=1, vmin=-1, center=0,\n",
        "            square=True, linewidths=.5, cbar_kws={\"shrink\": .5}, annot=True, fmt='.2f')\n",
        "\n",
        "plt.show()"
      ],
      "id": "953d163e",
      "execution_count": null,
      "outputs": [
        {
          "data": {
            "image/png": "[encoded data removed]",
            "text/plain": [
              "<Figure size 1440x1080 with 2 Axes>"
            ]
          },
          "metadata": {},
          "output_type": "display_data"
        }
      ]
    },
    {
      "cell_type": "markdown",
      "metadata": {
        "id": "c502f14b"
      },
      "source": [
        "So, here I have drop those columns which are not closely corelated and can be removed and is not useful for prediction."
      ],
      "id": "c502f14b"
    },
    {
      "cell_type": "code",
      "metadata": {
        "id": "af53ece6"
      },
      "source": [
        "df.drop(['CPI', 'Unemployment', 'MarkDown1', 'MarkDown2', 'MarkDown3', 'MarkDown4', 'MarkDown5'], axis=1, inplace=True)\n",
        "df_answer.drop(['CPI', 'Unemployment', 'MarkDown1', 'MarkDown2', 'MarkDown3', 'MarkDown4', 'MarkDown5'], axis=1, inplace=True)"
      ],
      "id": "af53ece6",
      "execution_count": null,
      "outputs": []
    },
    {
      "cell_type": "markdown",
      "metadata": {
        "id": "889adacf"
      },
      "source": [
        "# Step 4: Model Building. here, I am going to use Random Regression. But first, I will try to solve the problem of Holiday values."
      ],
      "id": "889adacf"
    },
    {
      "cell_type": "code",
      "metadata": {
        "id": "c39bce7a"
      },
      "source": [
        "def WMAE(dataset, real, predicted):\n",
        "    ''' Input df, real value , predicted value. Output the error value. lower the value, more accurate our model is '''\n",
        "\n",
        "    # weight allocation on IsHoliday\n",
        "    weights = dataset.IsHoliday.apply(lambda x : 5 if x else 1)\n",
        "\n",
        "    # WMSE formula\n",
        "    return np.round(np.sum(weights * abs(real - predicted)) / (np.sum(weights)), 2)"
      ],
      "id": "c39bce7a",
      "execution_count": null,
      "outputs": []
    },
    {
      "cell_type": "code",
      "metadata": {
        "id": "f8efc182"
      },
      "source": [
        "X_train = df.drop(['Weekly_Sales'], axis = 1)\n",
        "Y_train = df['Weekly_Sales']"
      ],
      "id": "f8efc182",
      "execution_count": null,
      "outputs": []
    },
    {
      "cell_type": "code",
      "metadata": {
        "id": "11e19a21",
        "outputId": "0bbce849-0cc0-43ef-9bdc-1ea784d3f1f2"
      },
      "source": [
        "from sklearn.ensemble import RandomForestRegressor\n",
        "# from sklearn.model_selection import train_test_split\n",
        "\n",
        "RF = RandomForestRegressor(n_estimators=58, max_depth=27, max_features=12, min_samples_split=4, min_samples_leaf=1)\n",
        "RF.fit(X_train, Y_train)"
      ],
      "id": "11e19a21",
      "execution_count": null,
      "outputs": [
        {
          "data": {
            "text/plain": [
              "RandomForestRegressor(max_depth=27, max_features=12, min_samples_split=4,\n",
              "                      n_estimators=58)"
            ]
          },
          "execution_count": 25,
          "metadata": {},
          "output_type": "execute_result"
        }
      ]
    },
    {
      "cell_type": "markdown",
      "metadata": {
        "id": "ef13ff97"
      },
      "source": [
        "# Step 5: Here, I got my prediction as expected and then just stored into sample_submission as per the problem statement.\n"
      ],
      "id": "ef13ff97"
    },
    {
      "cell_type": "code",
      "metadata": {
        "id": "d85fc5e1"
      },
      "source": [
        "X_test = df_answer.drop(['Weekly_Sales'], axis = 1)\n",
        "predict = RF.predict(X_test)"
      ],
      "id": "d85fc5e1",
      "execution_count": null,
      "outputs": []
    },
    {
      "cell_type": "code",
      "metadata": {
        "id": "8dc86a91",
        "outputId": "9196baed-4bd8-4cf7-c60a-e22ed4301d82"
      },
      "source": [
        "sample_submission['Weekly_Sales'] = predict\n",
        "sample_submission"
      ],
      "id": "8dc86a91",
      "execution_count": null,
      "outputs": [
        {
          "data": {
            "text/html": [
              "<div>\n",
              "<style scoped>\n",
              "    .dataframe tbody tr th:only-of-type {\n",
              "        vertical-align: middle;\n",
              "    }\n",
              "\n",
              "    .dataframe tbody tr th {\n",
              "        vertical-align: top;\n",
              "    }\n",
              "\n",
              "    .dataframe thead th {\n",
              "        text-align: right;\n",
              "    }\n",
              "</style>\n",
              "<table border=\"1\" class=\"dataframe\">\n",
              "  <thead>\n",
              "    <tr style=\"text-align: right;\">\n",
              "      <th></th>\n",
              "      <th>Id</th>\n",
              "      <th>Weekly_Sales</th>\n",
              "    </tr>\n",
              "  </thead>\n",
              "  <tbody>\n",
              "    <tr>\n",
              "      <th>0</th>\n",
              "      <td>1_1_2012-11-02</td>\n",
              "      <td>34476.206707</td>\n",
              "    </tr>\n",
              "    <tr>\n",
              "      <th>1</th>\n",
              "      <td>1_1_2012-11-09</td>\n",
              "      <td>47804.526405</td>\n",
              "    </tr>\n",
              "    <tr>\n",
              "      <th>2</th>\n",
              "      <td>1_1_2012-11-16</td>\n",
              "      <td>9525.801164</td>\n",
              "    </tr>\n",
              "    <tr>\n",
              "      <th>3</th>\n",
              "      <td>1_1_2012-11-23</td>\n",
              "      <td>39751.655949</td>\n",
              "    </tr>\n",
              "    <tr>\n",
              "      <th>4</th>\n",
              "      <td>1_1_2012-11-30</td>\n",
              "      <td>29818.059974</td>\n",
              "    </tr>\n",
              "    <tr>\n",
              "      <th>...</th>\n",
              "      <td>...</td>\n",
              "      <td>...</td>\n",
              "    </tr>\n",
              "    <tr>\n",
              "      <th>115059</th>\n",
              "      <td>45_98_2013-06-28</td>\n",
              "      <td>3439.304952</td>\n",
              "    </tr>\n",
              "    <tr>\n",
              "      <th>115060</th>\n",
              "      <td>45_98_2013-07-05</td>\n",
              "      <td>4180.832416</td>\n",
              "    </tr>\n",
              "    <tr>\n",
              "      <th>115061</th>\n",
              "      <td>45_98_2013-07-12</td>\n",
              "      <td>54302.912154</td>\n",
              "    </tr>\n",
              "    <tr>\n",
              "      <th>115062</th>\n",
              "      <td>45_98_2013-07-19</td>\n",
              "      <td>6543.593284</td>\n",
              "    </tr>\n",
              "    <tr>\n",
              "      <th>115063</th>\n",
              "      <td>45_98_2013-07-26</td>\n",
              "      <td>685.015336</td>\n",
              "    </tr>\n",
              "  </tbody>\n",
              "</table>\n",
              "<p>115064 rows × 2 columns</p>\n",
              "</div>"
            ],
            "text/plain": [
              "                      Id  Weekly_Sales\n",
              "0         1_1_2012-11-02  34476.206707\n",
              "1         1_1_2012-11-09  47804.526405\n",
              "2         1_1_2012-11-16   9525.801164\n",
              "3         1_1_2012-11-23  39751.655949\n",
              "4         1_1_2012-11-30  29818.059974\n",
              "...                  ...           ...\n",
              "115059  45_98_2013-06-28   3439.304952\n",
              "115060  45_98_2013-07-05   4180.832416\n",
              "115061  45_98_2013-07-12  54302.912154\n",
              "115062  45_98_2013-07-19   6543.593284\n",
              "115063  45_98_2013-07-26    685.015336\n",
              "\n",
              "[115064 rows x 2 columns]"
            ]
          },
          "execution_count": 27,
          "metadata": {},
          "output_type": "execute_result"
        }
      ]
    }
  ]
}